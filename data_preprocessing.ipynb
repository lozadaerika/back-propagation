{
 "cells": [
  {
   "cell_type": "code",
   "execution_count": 3,
   "metadata": {},
   "outputs": [
    {
     "data": {
      "text/html": [
       "<div>\n",
       "<style scoped>\n",
       "    .dataframe tbody tr th:only-of-type {\n",
       "        vertical-align: middle;\n",
       "    }\n",
       "\n",
       "    .dataframe tbody tr th {\n",
       "        vertical-align: top;\n",
       "    }\n",
       "\n",
       "    .dataframe thead th {\n",
       "        text-align: right;\n",
       "    }\n",
       "</style>\n",
       "<table border=\"1\" class=\"dataframe\">\n",
       "  <thead>\n",
       "    <tr style=\"text-align: right;\">\n",
       "      <th></th>\n",
       "      <th>#height_over_sea_level</th>\n",
       "      <th>fall</th>\n",
       "      <th>net_fall</th>\n",
       "      <th>flow</th>\n",
       "      <th>power_of_hydroelectrical_turbine</th>\n",
       "    </tr>\n",
       "  </thead>\n",
       "  <tbody>\n",
       "    <tr>\n",
       "      <th>0</th>\n",
       "      <td>624.0</td>\n",
       "      <td>89.16</td>\n",
       "      <td>89.765</td>\n",
       "      <td>3.5</td>\n",
       "      <td>2512.85</td>\n",
       "    </tr>\n",
       "    <tr>\n",
       "      <th>1</th>\n",
       "      <td>628.0</td>\n",
       "      <td>93.16</td>\n",
       "      <td>93.765</td>\n",
       "      <td>3.5</td>\n",
       "      <td>2583.79</td>\n",
       "    </tr>\n",
       "    <tr>\n",
       "      <th>2</th>\n",
       "      <td>602.0</td>\n",
       "      <td>67.84</td>\n",
       "      <td>66.415</td>\n",
       "      <td>6.5</td>\n",
       "      <td>3748.77</td>\n",
       "    </tr>\n",
       "    <tr>\n",
       "      <th>3</th>\n",
       "      <td>599.0</td>\n",
       "      <td>64.84</td>\n",
       "      <td>63.415</td>\n",
       "      <td>6.5</td>\n",
       "      <td>3520.65</td>\n",
       "    </tr>\n",
       "    <tr>\n",
       "      <th>4</th>\n",
       "      <td>630.0</td>\n",
       "      <td>94.69</td>\n",
       "      <td>93.540</td>\n",
       "      <td>8.0</td>\n",
       "      <td>6673.84</td>\n",
       "    </tr>\n",
       "  </tbody>\n",
       "</table>\n",
       "</div>"
      ],
      "text/plain": [
       "   #height_over_sea_level   fall  net_fall  flow  \\\n",
       "0                   624.0  89.16    89.765   3.5   \n",
       "1                   628.0  93.16    93.765   3.5   \n",
       "2                   602.0  67.84    66.415   6.5   \n",
       "3                   599.0  64.84    63.415   6.5   \n",
       "4                   630.0  94.69    93.540   8.0   \n",
       "\n",
       "   power_of_hydroelectrical_turbine  \n",
       "0                           2512.85  \n",
       "1                           2583.79  \n",
       "2                           3748.77  \n",
       "3                           3520.65  \n",
       "4                           6673.84  "
      ]
     },
     "execution_count": 3,
     "metadata": {},
     "output_type": "execute_result"
    }
   ],
   "source": [
    "# read th information of a CSV and load into a dataframe\n",
    "import pandas as pd\n",
    "import numpy as np\n",
    "import matplotlib.pyplot as plt\n",
    "\n",
    "# read the csv file\n",
    "df= pd.read_csv('A1-turbine.txt',sep='\t')\n",
    "df.head()\n",
    "#print(df.describe())"
   ]
  },
  {
   "cell_type": "code",
   "execution_count": 11,
   "metadata": {},
   "outputs": [
    {
     "data": {
      "text/plain": [
       "<Axes: >"
      ]
     },
     "execution_count": 11,
     "metadata": {},
     "output_type": "execute_result"
    },
    {
     "data": {
      "image/png": "[encoded data removed]",
      "text/plain": [
       "<Figure size 640x480 with 1 Axes>"
      ]
     },
     "metadata": {},
     "output_type": "display_data"
    }
   ],
   "source": [
    "#plot a histogram of the 'temperatura media'\n",
    "df['power_of_hydroelectrical_turbine'].hist(bins=20)"
   ]
  },
  {
   "cell_type": "code",
   "execution_count": 12,
   "metadata": {},
   "outputs": [
    {
     "data": {
      "text/plain": [
       "<Axes: >"
      ]
     },
     "execution_count": 12,
     "metadata": {},
     "output_type": "execute_result"
    },
    {
     "data": {
      "image/png": "[encoded data removed]",
      "text/plain": [
       "<Figure size 640x480 with 1 Axes>"
      ]
     },
     "metadata": {},
     "output_type": "display_data"
    }
   ],
   "source": [
    "#plot a box whisker plot\n",
    "df.boxplot(column='power_of_hydroelectrical_turbine')"
   ]
  },
  {
   "cell_type": "code",
   "execution_count": 13,
   "metadata": {},
   "outputs": [
    {
     "name": "stdout",
     "output_type": "stream",
     "text": [
      "(451, 5)\n",
      "(451, 5)\n"
     ]
    }
   ],
   "source": [
    "# get the number of missing values\n",
    "df.isnull().sum()\n",
    "#print the number of columns and rows\n",
    "print(df.shape)\n",
    "#remove all the lines where all values are missing except 'provincia' and 'day'\n",
    "df_all2=df.dropna(how='all',subset=['#height_over_sea_level','fall','net_fall','flow','power_of_hydroelectrical_turbine'])\n",
    "#df_all2=df_all.isna(....)\n",
    "#print the number of columns and rows\n",
    "print(df_all2.shape)"
   ]
  },
  {
   "cell_type": "code",
   "execution_count": 14,
   "metadata": {},
   "outputs": [
    {
     "name": "stdout",
     "output_type": "stream",
     "text": [
      "#height_over_sea_level              0\n",
      "fall                                0\n",
      "net_fall                            0\n",
      "flow                                0\n",
      "power_of_hydroelectrical_turbine    0\n",
      "dtype: int64\n"
     ]
    }
   ],
   "source": [
    "print(df.isnull().sum())\n",
    "#replace the missing values with the mean of the column for tempratura media\n",
    "#df_all2['fall'].fillna(df_all2['fall'].mode(),inplace=True)\n",
    "#print(df_all2.isnull().sum())"
   ]
  },
  {
   "cell_type": "code",
   "execution_count": 15,
   "metadata": {},
   "outputs": [
    {
     "name": "stdout",
     "output_type": "stream",
     "text": [
      "{'A Coruña': 0, 'Albacete': 1, 'Alacant/Alicante': 2, 'Almería': 3, 'Araba/Álava': 4, 'Asturias': 5, 'Ávila': 6, 'Badajoz': 7, 'Barcelona': 8, 'Bizkaia': 9, 'Burgos': 10, 'Cáceres': 11, 'Cádiz': 12, 'Cantabria': 13, 'Castelló/Castellón': 14, 'Ceuta': 15, 'Ciudad Real': 16, 'Córdoba': 17, 'Cuenca': 18, 'Gipuzkoa': 19, 'Girona': 20, 'Granada': 21, 'Guadalajara': 22, 'Huelva': 23, 'Huesca': 24, 'Illes Balears': 25, 'Jaén': 26, 'La Rioja': 27, 'Las Palmas': 28, 'León': 29, 'Lleida': 30, 'Lugo': 31, 'Madrid': 32, 'Málaga': 33, 'Melilla': 34, 'Murcia': 35, 'Navarra': 36, 'Ourense': 37, 'Palencia': 38, 'Pontevedra': 39, 'Salamanca': 40, 'Segovia': 41, 'Sevilla': 42, 'Soria': 43, 'Santa Cruz de Tenerife': 44, 'Tarragona': 45, 'Teruel': 46, 'Toledo': 47, 'València/Valencia': 48, 'Valladolid': 49, 'Zamora': 50, 'Zaragoza': 51}\n"
     ]
    },
    {
     "data": {
      "text/html": [
       "<div>\n",
       "<style scoped>\n",
       "    .dataframe tbody tr th:only-of-type {\n",
       "        vertical-align: middle;\n",
       "    }\n",
       "\n",
       "    .dataframe tbody tr th {\n",
       "        vertical-align: top;\n",
       "    }\n",
       "\n",
       "    .dataframe thead th {\n",
       "        text-align: right;\n",
       "    }\n",
       "</style>\n",
       "<table border=\"1\" class=\"dataframe\">\n",
       "  <thead>\n",
       "    <tr style=\"text-align: right;\">\n",
       "      <th></th>\n",
       "      <th>Estación</th>\n",
       "      <th>Provincia</th>\n",
       "      <th>Temperatura máxima (ºC)</th>\n",
       "      <th>Temperatura mínima (ºC)</th>\n",
       "      <th>Temperatura media (ºC)</th>\n",
       "      <th>Racha (km/h)</th>\n",
       "      <th>Velocidad máxima (km/h)</th>\n",
       "      <th>Precipitación 00-24h (mm)</th>\n",
       "      <th>Precipitación 00-06h (mm)</th>\n",
       "      <th>Precipitación 06-12h (mm)</th>\n",
       "      <th>Precipitación 12-18h (mm)</th>\n",
       "      <th>day</th>\n",
       "      <th>Provincia2</th>\n",
       "    </tr>\n",
       "  </thead>\n",
       "  <tbody>\n",
       "    <tr>\n",
       "      <th>0</th>\n",
       "      <td>Estaca de Bares</td>\n",
       "      <td>A Coruña</td>\n",
       "      <td>13.9 (13:10)</td>\n",
       "      <td>10.9 (00:20)</td>\n",
       "      <td>12.4</td>\n",
       "      <td>117 (11:00)</td>\n",
       "      <td>98 (13:20)</td>\n",
       "      <td>2.6</td>\n",
       "      <td>0.0</td>\n",
       "      <td>0.2</td>\n",
       "      <td>2.2</td>\n",
       "      <td>1</td>\n",
       "      <td>0</td>\n",
       "    </tr>\n",
       "    <tr>\n",
       "      <th>1</th>\n",
       "      <td>As Pontes</td>\n",
       "      <td>A Coruña</td>\n",
       "      <td>12.3 (14:10)</td>\n",
       "      <td>7.8 (00:00)</td>\n",
       "      <td>10.1</td>\n",
       "      <td>NaN</td>\n",
       "      <td>NaN</td>\n",
       "      <td>0.0</td>\n",
       "      <td>0.0</td>\n",
       "      <td>0.0</td>\n",
       "      <td>0.0</td>\n",
       "      <td>1</td>\n",
       "      <td>0</td>\n",
       "    </tr>\n",
       "    <tr>\n",
       "      <th>2</th>\n",
       "      <td>A Coruña</td>\n",
       "      <td>A Coruña</td>\n",
       "      <td>15.3 (14:20)</td>\n",
       "      <td>11.5 (00:10)</td>\n",
       "      <td>13.4</td>\n",
       "      <td>69 (14:00)</td>\n",
       "      <td>40 (07:50)</td>\n",
       "      <td>0.6</td>\n",
       "      <td>0.0</td>\n",
       "      <td>0.2</td>\n",
       "      <td>0.2</td>\n",
       "      <td>1</td>\n",
       "      <td>0</td>\n",
       "    </tr>\n",
       "    <tr>\n",
       "      <th>3</th>\n",
       "      <td>A Coruña Aeropuerto</td>\n",
       "      <td>A Coruña</td>\n",
       "      <td>15.0 (14:30)</td>\n",
       "      <td>9.0 (00:10)</td>\n",
       "      <td>12.0</td>\n",
       "      <td>61 (07:10)</td>\n",
       "      <td>32 (14:00)</td>\n",
       "      <td>0.5</td>\n",
       "      <td>0.0</td>\n",
       "      <td>0.4</td>\n",
       "      <td>0.1</td>\n",
       "      <td>1</td>\n",
       "      <td>0</td>\n",
       "    </tr>\n",
       "    <tr>\n",
       "      <th>4</th>\n",
       "      <td>Carballo, Depuradora</td>\n",
       "      <td>A Coruña</td>\n",
       "      <td>14.1 (23:50)</td>\n",
       "      <td>11.2 (00:20)</td>\n",
       "      <td>12.7</td>\n",
       "      <td>NaN</td>\n",
       "      <td>NaN</td>\n",
       "      <td>5.0</td>\n",
       "      <td>0.0</td>\n",
       "      <td>1.2</td>\n",
       "      <td>3.6</td>\n",
       "      <td>1</td>\n",
       "      <td>0</td>\n",
       "    </tr>\n",
       "  </tbody>\n",
       "</table>\n",
       "</div>"
      ],
      "text/plain": [
       "               Estación Provincia Temperatura máxima (ºC)  \\\n",
       "0       Estaca de Bares  A Coruña            13.9 (13:10)   \n",
       "1             As Pontes  A Coruña            12.3 (14:10)   \n",
       "2              A Coruña  A Coruña            15.3 (14:20)   \n",
       "3   A Coruña Aeropuerto  A Coruña            15.0 (14:30)   \n",
       "4  Carballo, Depuradora  A Coruña            14.1 (23:50)   \n",
       "\n",
       "  Temperatura mínima (ºC)  Temperatura media (ºC) Racha (km/h)  \\\n",
       "0            10.9 (00:20)                    12.4  117 (11:00)   \n",
       "1             7.8 (00:00)                    10.1          NaN   \n",
       "2            11.5 (00:10)                    13.4   69 (14:00)   \n",
       "3             9.0 (00:10)                    12.0   61 (07:10)   \n",
       "4            11.2 (00:20)                    12.7          NaN   \n",
       "\n",
       "  Velocidad máxima (km/h)  Precipitación 00-24h (mm)  \\\n",
       "0              98 (13:20)                        2.6   \n",
       "1                     NaN                        0.0   \n",
       "2              40 (07:50)                        0.6   \n",
       "3              32 (14:00)                        0.5   \n",
       "4                     NaN                        5.0   \n",
       "\n",
       "   Precipitación 00-06h (mm)  Precipitación 06-12h (mm)  \\\n",
       "0                        0.0                        0.2   \n",
       "1                        0.0                        0.0   \n",
       "2                        0.0                        0.2   \n",
       "3                        0.0                        0.4   \n",
       "4                        0.0                        1.2   \n",
       "\n",
       "   Precipitación 12-18h (mm)  day  Provincia2  \n",
       "0                        2.2    1           0  \n",
       "1                        0.0    1           0  \n",
       "2                        0.2    1           0  \n",
       "3                        0.1    1           0  \n",
       "4                        3.6    1           0  "
      ]
     },
     "execution_count": 15,
     "metadata": {},
     "output_type": "execute_result"
    }
   ],
   "source": [
    "#obtain all the values of the column and create a dictionary\n",
    "columnName=df['fall'].unique()\n",
    "#transform the list to a dictionary\n",
    "dictionaryName={k:v for v,k in enumerate(columnName)}\n",
    "print(dictionaryName)\n",
    "\n",
    "df_all2['fall2']=df_all2['fall'].map(dictionaryName)\n",
    "\n",
    "df_all2.head()"
   ]
  },
  {
   "cell_type": "code",
   "execution_count": 20,
   "metadata": {},
   "outputs": [
    {
     "data": {
      "text/html": [
       "<div>\n",
       "<style scoped>\n",
       "    .dataframe tbody tr th:only-of-type {\n",
       "        vertical-align: middle;\n",
       "    }\n",
       "\n",
       "    .dataframe tbody tr th {\n",
       "        vertical-align: top;\n",
       "    }\n",
       "\n",
       "    .dataframe thead th {\n",
       "        text-align: right;\n",
       "    }\n",
       "</style>\n",
       "<table border=\"1\" class=\"dataframe\">\n",
       "  <thead>\n",
       "    <tr style=\"text-align: right;\">\n",
       "      <th></th>\n",
       "      <th>#height_over_sea_level</th>\n",
       "      <th>fall</th>\n",
       "      <th>net_fall</th>\n",
       "      <th>flow</th>\n",
       "      <th>power_of_hydroelectrical_turbine</th>\n",
       "    </tr>\n",
       "  </thead>\n",
       "  <tbody>\n",
       "    <tr>\n",
       "      <th>0</th>\n",
       "      <td>624.0</td>\n",
       "      <td>0.821157</td>\n",
       "      <td>0.848756</td>\n",
       "      <td>0.083333</td>\n",
       "      <td>0.149957</td>\n",
       "    </tr>\n",
       "    <tr>\n",
       "      <th>1</th>\n",
       "      <td>628.0</td>\n",
       "      <td>0.922628</td>\n",
       "      <td>0.946807</td>\n",
       "      <td>0.083333</td>\n",
       "      <td>0.162656</td>\n",
       "    </tr>\n",
       "    <tr>\n",
       "      <th>2</th>\n",
       "      <td>602.0</td>\n",
       "      <td>0.280315</td>\n",
       "      <td>0.276382</td>\n",
       "      <td>0.583333</td>\n",
       "      <td>0.371202</td>\n",
       "    </tr>\n",
       "    <tr>\n",
       "      <th>3</th>\n",
       "      <td>599.0</td>\n",
       "      <td>0.204211</td>\n",
       "      <td>0.202843</td>\n",
       "      <td>0.583333</td>\n",
       "      <td>0.330365</td>\n",
       "    </tr>\n",
       "    <tr>\n",
       "      <th>4</th>\n",
       "      <td>630.0</td>\n",
       "      <td>0.961441</td>\n",
       "      <td>0.941292</td>\n",
       "      <td>0.833333</td>\n",
       "      <td>0.894825</td>\n",
       "    </tr>\n",
       "  </tbody>\n",
       "</table>\n",
       "</div>"
      ],
      "text/plain": [
       "   #height_over_sea_level      fall  net_fall      flow  \\\n",
       "0                   624.0  0.821157  0.848756  0.083333   \n",
       "1                   628.0  0.922628  0.946807  0.083333   \n",
       "2                   602.0  0.280315  0.276382  0.583333   \n",
       "3                   599.0  0.204211  0.202843  0.583333   \n",
       "4                   630.0  0.961441  0.941292  0.833333   \n",
       "\n",
       "   power_of_hydroelectrical_turbine  \n",
       "0                          0.149957  \n",
       "1                          0.162656  \n",
       "2                          0.371202  \n",
       "3                          0.330365  \n",
       "4                          0.894825  "
      ]
     },
     "execution_count": 20,
     "metadata": {},
     "output_type": "execute_result"
    }
   ],
   "source": [
    "#Import MinMaxScaler from sklearn\n",
    "from sklearn.preprocessing import MinMaxScaler\n",
    "scaler = MinMaxScaler() # default =(0,1)\n",
    "\n",
    "#height_over_sea_level\tfall\tnet\tfall_flow\tpower_of_hydroelectrical_turbine\n",
    "empty_df = pd.DataFrame()\n",
    "\n",
    "#create a list of the features to be scaled\n",
    "\n",
    "empty_df['#height_over_sea_level']=df['#height_over_sea_level']\n",
    "\n",
    "empty_df['fall']= scaler.fit_transform(df[['fall']])\n",
    "#empty_df['ZScoreFall']= (df['fall']-df['fall'].mean())/df['fall'].std()\n",
    "\n",
    "empty_df['net_fall']= scaler.fit_transform(df[['net_fall']])\n",
    "#empty_df['ZScoreNet']= (df['net_fall']-df['net_fall'].mean())/df['net_fall'].std()\n",
    "\n",
    "empty_df['flow']= scaler.fit_transform(df[['flow']])\n",
    "#empty_df['ZScoreFallFlow']= (df['flow']-df['flow'].mean())/df['flow'].std()\n",
    "\n",
    "empty_df['power_of_hydroelectrical_turbine']= scaler.fit_transform(df[['power_of_hydroelectrical_turbine']])\n",
    "#empty_df['ZScorePower']= (df['power_of_hydroelectrical_turbine']-df['power_of_hydroelectrical_turbine'].mean())/df['power_of_hydroelectrical_turbine'].std()\n",
    "\n",
    "empty_df.to_csv('A1-turbine-normalized.txt', index=False, sep='\t')\n",
    "\n",
    "empty_df.head()"
   ]
  }
 ],
 "metadata": {
  "kernelspec": {
   "display_name": "Python 3",
   "language": "python",
   "name": "python3"
  },
  "language_info": {
   "codemirror_mode": {
    "name": "ipython",
    "version": 3
   },
   "file_extension": ".py",
   "mimetype": "text/x-python",
   "name": "python",
   "nbconvert_exporter": "python",
   "pygments_lexer": "ipython3",
   "version": "3.11.2"
  },
  "orig_nbformat": 4
 },
 "nbformat": 4,
 "nbformat_minor": 2
}
