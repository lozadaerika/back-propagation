{
 "cells": [
  {
   "cell_type": "code",
   "execution_count": 37,
   "metadata": {},
   "outputs": [
    {
     "name": "stdout",
     "output_type": "stream",
     "text": [
      "               X1          X2          X3          X4         X5          X6  \\\n",
      "count  768.000000  768.000000  768.000000  768.000000  768.00000  768.000000   \n",
      "mean     0.764167  671.708333  318.500000  176.604167    5.25000    3.500000   \n",
      "std      0.105777   88.086116   43.626481   45.165950    1.75114    1.118763   \n",
      "min      0.620000  514.500000  245.000000  110.250000    3.50000    2.000000   \n",
      "25%      0.682500  606.375000  294.000000  140.875000    3.50000    2.750000   \n",
      "50%      0.750000  673.750000  318.500000  183.750000    5.25000    3.500000   \n",
      "75%      0.830000  741.125000  343.000000  220.500000    7.00000    4.250000   \n",
      "max      0.980000  808.500000  416.500000  220.500000    7.00000    5.000000   \n",
      "\n",
      "               X7         X8          Y1          Y2  \n",
      "count  768.000000  768.00000  768.000000  768.000000  \n",
      "mean     0.234375    2.81250   22.307201   24.587760  \n",
      "std      0.133221    1.55096   10.090196    9.513306  \n",
      "min      0.000000    0.00000    6.010000   10.900000  \n",
      "25%      0.100000    1.75000   12.992500   15.620000  \n",
      "50%      0.250000    3.00000   18.950000   22.080000  \n",
      "75%      0.400000    4.00000   31.667500   33.132500  \n",
      "max      0.400000    5.00000   43.100000   48.030000  \n"
     ]
    }
   ],
   "source": [
    "# read th information of a CSV and load into a dataframe\n",
    "import pandas as pd\n",
    "import numpy as np\n",
    "import matplotlib.pyplot as plt\n",
    "\n",
    "# read the csv file\n",
    "df= pd.read_csv('A1-energy.txt',sep='\t')\n",
    "df.head()\n",
    "print(df.describe())"
   ]
  },
  {
   "cell_type": "code",
   "execution_count": 15,
   "metadata": {},
   "outputs": [
    {
     "data": {
      "text/plain": [
       "<Axes: >"
      ]
     },
     "execution_count": 15,
     "metadata": {},
     "output_type": "execute_result"
    },
    {
     "data": {
      "image/png": "[encoded data removed]",
      "text/plain": [
       "<Figure size 640x480 with 1 Axes>"
      ]
     },
     "metadata": {},
     "output_type": "display_data"
    }
   ],
   "source": [
    "#plot a histogram of the 'temperatura media'\n",
    "df['Y2'].hist(bins=20)\n"
   ]
  },
  {
   "cell_type": "code",
   "execution_count": 24,
   "metadata": {},
   "outputs": [
    {
     "data": {
      "text/plain": [
       "<Axes: >"
      ]
     },
     "execution_count": 24,
     "metadata": {},
     "output_type": "execute_result"
    },
    {
     "data": {
      "image/png": "[encoded data removed]",
      "text/plain": [
       "<Figure size 640x480 with 1 Axes>"
      ]
     },
     "metadata": {},
     "output_type": "display_data"
    }
   ],
   "source": [
    "#plot a box whisker plot\n",
    "df.boxplot(column='Y2')"
   ]
  },
  {
   "cell_type": "code",
   "execution_count": 13,
   "metadata": {},
   "outputs": [
    {
     "name": "stdout",
     "output_type": "stream",
     "text": [
      "(451, 5)\n",
      "(451, 5)\n"
     ]
    }
   ],
   "source": [
    "# get the number of missing values\n",
    "df.isnull().sum()\n",
    "#print the number of columns and rows\n",
    "print(df.shape)\n",
    "#remove all the lines where all values are missing except 'provincia' and 'day'\n",
    "df_all2=df.dropna(how='all',subset=['x1','x2','X3','X4','X5','X6','X7','X8','Y1','Y2'])\n",
    "#df_all2=df_all.isna(....)\n",
    "#print the number of columns and rows\n",
    "print(df_all2.shape)"
   ]
  },
  {
   "cell_type": "code",
   "execution_count": 26,
   "metadata": {},
   "outputs": [
    {
     "name": "stdout",
     "output_type": "stream",
     "text": [
      "X1    0\n",
      "X2    0\n",
      "X3    0\n",
      "X4    0\n",
      "X5    0\n",
      "X6    0\n",
      "X7    0\n",
      "X8    0\n",
      "Y1    0\n",
      "Y2    0\n",
      "dtype: int64\n"
     ]
    }
   ],
   "source": [
    "print(df.isnull().sum())\n",
    "#replace the missing values with the mean of the column for tempratura media\n",
    "#df_all2['fall'].fillna(df_all2['fall'].mode(),inplace=True)\n",
    "#print(df_all2.isnull().sum())"
   ]
  },
  {
   "cell_type": "code",
   "execution_count": 28,
   "metadata": {},
   "outputs": [],
   "source": [
    "#obtain all the values of the column and create a dictionary\n",
    "#columnName=df['X1'].unique()\n",
    "#transform the list to a dictionary\n",
    "#dictionaryName={k:v for v,k in enumerate(columnName)}\n",
    "#print(dictionaryName)\n",
    "\n",
    "#df_all2['X1']=df_all2['X1'].map(dictionaryName)\n",
    "\n",
    "#df_all2.head()"
   ]
  },
  {
   "cell_type": "code",
   "execution_count": 38,
   "metadata": {},
   "outputs": [
    {
     "data": {
      "text/html": [
       "<div>\n",
       "<style scoped>\n",
       "    .dataframe tbody tr th:only-of-type {\n",
       "        vertical-align: middle;\n",
       "    }\n",
       "\n",
       "    .dataframe tbody tr th {\n",
       "        vertical-align: top;\n",
       "    }\n",
       "\n",
       "    .dataframe thead th {\n",
       "        text-align: right;\n",
       "    }\n",
       "</style>\n",
       "<table border=\"1\" class=\"dataframe\">\n",
       "  <thead>\n",
       "    <tr style=\"text-align: right;\">\n",
       "      <th></th>\n",
       "      <th>X5</th>\n",
       "      <th>X6</th>\n",
       "      <th>X8</th>\n",
       "      <th>X1</th>\n",
       "      <th>X7</th>\n",
       "      <th>Y1</th>\n",
       "      <th>Y2</th>\n",
       "      <th>X2</th>\n",
       "      <th>X3</th>\n",
       "      <th>X4</th>\n",
       "    </tr>\n",
       "  </thead>\n",
       "  <tbody>\n",
       "    <tr>\n",
       "      <th>0</th>\n",
       "      <td>7.0</td>\n",
       "      <td>2</td>\n",
       "      <td>0</td>\n",
       "      <td>1.000000</td>\n",
       "      <td>0.0</td>\n",
       "      <td>0.257212</td>\n",
       "      <td>0.280905</td>\n",
       "      <td>-1.784712</td>\n",
       "      <td>-0.561586</td>\n",
       "      <td>-1.469119</td>\n",
       "    </tr>\n",
       "    <tr>\n",
       "      <th>1</th>\n",
       "      <td>7.0</td>\n",
       "      <td>3</td>\n",
       "      <td>0</td>\n",
       "      <td>1.000000</td>\n",
       "      <td>0.0</td>\n",
       "      <td>0.257212</td>\n",
       "      <td>0.280905</td>\n",
       "      <td>-1.784712</td>\n",
       "      <td>-0.561586</td>\n",
       "      <td>-1.469119</td>\n",
       "    </tr>\n",
       "    <tr>\n",
       "      <th>2</th>\n",
       "      <td>7.0</td>\n",
       "      <td>4</td>\n",
       "      <td>0</td>\n",
       "      <td>1.000000</td>\n",
       "      <td>0.0</td>\n",
       "      <td>0.257212</td>\n",
       "      <td>0.280905</td>\n",
       "      <td>-1.784712</td>\n",
       "      <td>-0.561586</td>\n",
       "      <td>-1.469119</td>\n",
       "    </tr>\n",
       "    <tr>\n",
       "      <th>3</th>\n",
       "      <td>7.0</td>\n",
       "      <td>5</td>\n",
       "      <td>0</td>\n",
       "      <td>1.000000</td>\n",
       "      <td>0.0</td>\n",
       "      <td>0.257212</td>\n",
       "      <td>0.280905</td>\n",
       "      <td>-1.784712</td>\n",
       "      <td>-0.561586</td>\n",
       "      <td>-1.469119</td>\n",
       "    </tr>\n",
       "    <tr>\n",
       "      <th>4</th>\n",
       "      <td>7.0</td>\n",
       "      <td>2</td>\n",
       "      <td>0</td>\n",
       "      <td>0.777778</td>\n",
       "      <td>0.0</td>\n",
       "      <td>0.399838</td>\n",
       "      <td>0.468085</td>\n",
       "      <td>-1.228438</td>\n",
       "      <td>0.000000</td>\n",
       "      <td>-1.197897</td>\n",
       "    </tr>\n",
       "  </tbody>\n",
       "</table>\n",
       "</div>"
      ],
      "text/plain": [
       "    X5  X6  X8        X1   X7        Y1        Y2        X2        X3  \\\n",
       "0  7.0   2   0  1.000000  0.0  0.257212  0.280905 -1.784712 -0.561586   \n",
       "1  7.0   3   0  1.000000  0.0  0.257212  0.280905 -1.784712 -0.561586   \n",
       "2  7.0   4   0  1.000000  0.0  0.257212  0.280905 -1.784712 -0.561586   \n",
       "3  7.0   5   0  1.000000  0.0  0.257212  0.280905 -1.784712 -0.561586   \n",
       "4  7.0   2   0  0.777778  0.0  0.399838  0.468085 -1.228438  0.000000   \n",
       "\n",
       "         X4  \n",
       "0 -1.469119  \n",
       "1 -1.469119  \n",
       "2 -1.469119  \n",
       "3 -1.469119  \n",
       "4 -1.197897  "
      ]
     },
     "execution_count": 38,
     "metadata": {},
     "output_type": "execute_result"
    }
   ],
   "source": [
    "#Import MinMaxScaler from sklearn\n",
    "from sklearn.preprocessing import MinMaxScaler\n",
    "scaler = MinMaxScaler() # default =(0,1)\n",
    "\n",
    "#height_over_sea_level\tfall\tnet\tfall_flow\tpower_of_hydroelectrical_turbine\n",
    "empty_df = pd.DataFrame()\n",
    "\n",
    "#create a list of the features to be scaled\n",
    "\n",
    "empty_df['X5']=df['X5']\n",
    "empty_df['X6']=df['X6']\n",
    "empty_df['X8']=df['X8']\n",
    "\n",
    "empty_df['X1']= scaler.fit_transform(df[['X1']])\n",
    "empty_df['X7']= scaler.fit_transform(df[['X7']])\n",
    "empty_df['Y1']= scaler.fit_transform(df[['Y1']])\n",
    "empty_df['Y2']= scaler.fit_transform(df[['Y2']])\n",
    "\n",
    "empty_df['X2']= (df['X2']-df['X2'].mean())/df['X2'].std()\n",
    "empty_df['X3']= (df['X3']-df['X3'].mean())/df['X3'].std()\n",
    "empty_df['X4']= (df['X4']-df['X4'].mean())/df['X4'].std()\n",
    "\n",
    "empty_df.to_csv('A1-energy-normalized.txt', index=False, sep='\t')\n",
    "\n",
    "empty_df.head()"
   ]
  }
 ],
 "metadata": {
  "kernelspec": {
   "display_name": "Python 3",
   "language": "python",
   "name": "python3"
  },
  "language_info": {
   "codemirror_mode": {
    "name": "ipython",
    "version": 3
   },
   "file_extension": ".py",
   "mimetype": "text/x-python",
   "name": "python",
   "nbconvert_exporter": "python",
   "pygments_lexer": "ipython3",
   "version": "3.11.2"
  },
  "orig_nbformat": 4
 },
 "nbformat": 4,
 "nbformat_minor": 2
}
